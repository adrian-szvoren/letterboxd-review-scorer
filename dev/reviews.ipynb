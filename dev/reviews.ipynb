{
 "cells": [
  {
   "cell_type": "code",
   "execution_count": 21,
   "metadata": {
    "collapsed": true
   },
   "outputs": [],
   "source": [
    "import os\n",
    "import math\n",
    "import pandas as pd\n",
    "import pickle\n",
    "\n",
    "from sklearn.utils import shuffle\n",
    "from tqdm import tqdm"
   ]
  },
  {
   "cell_type": "code",
   "execution_count": 22,
   "outputs": [
    {
     "name": "stderr",
     "output_type": "stream",
     "text": [
      "100%|██████████| 4/4 [00:00<00:00, 38.92it/s]\n"
     ]
    }
   ],
   "source": [
    "people = ['Dennis+Schwartz', 'James+Berardinelli', 'Scott+Renshaw', 'Steve+Rhodes']\n",
    "features = ['subj', 'rating', 'label.3class', 'label.4class', 'rating']\n",
    "\n",
    "data = []\n",
    "for person in tqdm(people):\n",
    "    data_path = f'../data/raw/scale_4ppl/{person}'\n",
    "    data_entry = {}\n",
    "    data_entry['user'] = person\n",
    "    for feature in features:\n",
    "        temp = []\n",
    "        with open(f'{data_path}/{feature}.{person}', 'r') as f:\n",
    "            lines = f.readlines()\n",
    "            for line in lines:\n",
    "                entry = line.replace('\\n','')\n",
    "                temp.append(entry)\n",
    "        f.close()\n",
    "\n",
    "        data_entry[feature] = temp\n",
    "\n",
    "    data_entry = pd.DataFrame(data_entry)\n",
    "\n",
    "    data.append(data_entry)\n",
    "data = pd.concat(data)\n",
    "data = data.rename(columns={'subj': 'text', 'person': 'user'})\n",
    "\n",
    "# data['clean'] = [clean_text(x) for x in data['subj']]\n",
    "\n",
    "data['rating_rt'] = [round(float(x)*100) for x in data['rating']]\n",
    "data['rating_imdb'] = [max(1, math.ceil(float(x)*10)) for x in data['rating']]\n",
    "data['rating_lb'] = [max(0.5, math.ceil(float(x)*10)/2) for x in data['rating']]\n",
    "\n",
    "reddit = pd.read_csv('../data/raw/reddit/ratings.csv', usecols=['user', 'text', 'rating_lb'])\n",
    "reddit['rating'] = reddit['rating_lb'] / 5\n",
    "reddit['rating_rt'] = reddit['rating_lb'] * 20\n",
    "reddit['rating_imdb'] = reddit['rating_lb'] * 2\n",
    "\n",
    "data = pd.concat([data, reddit]).reset_index(drop=True)\n",
    "\n",
    "\n",
    "data['label.10class'] = (data['rating_imdb'] - 1).astype(int)\n",
    "\n",
    "data = shuffle(data)\n",
    "data.to_csv('../data/processed.csv', index=None)"
   ],
   "metadata": {
    "collapsed": false
   }
  },
  {
   "cell_type": "code",
   "execution_count": 23,
   "outputs": [
    {
     "data": {
      "text/plain": "                    user                                               text  \\\n5318      PrisonerLudwig                                               Good   \n4968        Steve+Rhodes  when i went into see crimson tide , i knew it ...   \n3817        Steve+Rhodes  but with it's thin narrative , based on mitche...   \n2635       Scott+Renshaw  director : wes craven . mpaa rating : pg ( mil...   \n3019       Scott+Renshaw  screenplay : mike werb . director : charles ru...   \n...                  ...                                                ...   \n4201        Steve+Rhodes  i read that it is a sequel to the year my voic...   \n4180        Steve+Rhodes  if you are like me and have never heard of thi...   \n1977  James+Berardinelli  perhaps disney should take a lesson from write...   \n2485       Scott+Renshaw  screenplay : rodney vaccaro and aline brosh mc...   \n4920        Steve+Rhodes  few people who have seen the classic 12 angry ...   \n\n     rating label.3class label.4class  rating_rt  rating_imdb  rating_lb  \\\n5318    0.7          NaN          NaN       70.0          7.0        3.5   \n4968    0.9            2            3       90.0          9.0        4.5   \n3817    0.5            1            1       50.0          5.0        2.5   \n2635    0.5            1            1       50.0          5.0        2.5   \n3019    0.7            2            2       70.0          7.0        3.5   \n...     ...          ...          ...        ...          ...        ...   \n4201    0.6            1            2       60.0          6.0        3.0   \n4180    0.6            1            2       60.0          6.0        3.0   \n1977   0.75            2            2       75.0          8.0        4.0   \n2485    0.4            0            1       40.0          4.0        2.0   \n4920    0.8            2            3       80.0          8.0        4.0   \n\n      label.10class  \n5318              6  \n4968              8  \n3817              4  \n2635              4  \n3019              6  \n...             ...  \n4201              5  \n4180              5  \n1977              7  \n2485              3  \n4920              7  \n\n[5440 rows x 9 columns]",
      "text/html": "<div>\n<style scoped>\n    .dataframe tbody tr th:only-of-type {\n        vertical-align: middle;\n    }\n\n    .dataframe tbody tr th {\n        vertical-align: top;\n    }\n\n    .dataframe thead th {\n        text-align: right;\n    }\n</style>\n<table border=\"1\" class=\"dataframe\">\n  <thead>\n    <tr style=\"text-align: right;\">\n      <th></th>\n      <th>user</th>\n      <th>text</th>\n      <th>rating</th>\n      <th>label.3class</th>\n      <th>label.4class</th>\n      <th>rating_rt</th>\n      <th>rating_imdb</th>\n      <th>rating_lb</th>\n      <th>label.10class</th>\n    </tr>\n  </thead>\n  <tbody>\n    <tr>\n      <th>5318</th>\n      <td>PrisonerLudwig</td>\n      <td>Good</td>\n      <td>0.7</td>\n      <td>NaN</td>\n      <td>NaN</td>\n      <td>70.0</td>\n      <td>7.0</td>\n      <td>3.5</td>\n      <td>6</td>\n    </tr>\n    <tr>\n      <th>4968</th>\n      <td>Steve+Rhodes</td>\n      <td>when i went into see crimson tide , i knew it ...</td>\n      <td>0.9</td>\n      <td>2</td>\n      <td>3</td>\n      <td>90.0</td>\n      <td>9.0</td>\n      <td>4.5</td>\n      <td>8</td>\n    </tr>\n    <tr>\n      <th>3817</th>\n      <td>Steve+Rhodes</td>\n      <td>but with it's thin narrative , based on mitche...</td>\n      <td>0.5</td>\n      <td>1</td>\n      <td>1</td>\n      <td>50.0</td>\n      <td>5.0</td>\n      <td>2.5</td>\n      <td>4</td>\n    </tr>\n    <tr>\n      <th>2635</th>\n      <td>Scott+Renshaw</td>\n      <td>director : wes craven . mpaa rating : pg ( mil...</td>\n      <td>0.5</td>\n      <td>1</td>\n      <td>1</td>\n      <td>50.0</td>\n      <td>5.0</td>\n      <td>2.5</td>\n      <td>4</td>\n    </tr>\n    <tr>\n      <th>3019</th>\n      <td>Scott+Renshaw</td>\n      <td>screenplay : mike werb . director : charles ru...</td>\n      <td>0.7</td>\n      <td>2</td>\n      <td>2</td>\n      <td>70.0</td>\n      <td>7.0</td>\n      <td>3.5</td>\n      <td>6</td>\n    </tr>\n    <tr>\n      <th>...</th>\n      <td>...</td>\n      <td>...</td>\n      <td>...</td>\n      <td>...</td>\n      <td>...</td>\n      <td>...</td>\n      <td>...</td>\n      <td>...</td>\n      <td>...</td>\n    </tr>\n    <tr>\n      <th>4201</th>\n      <td>Steve+Rhodes</td>\n      <td>i read that it is a sequel to the year my voic...</td>\n      <td>0.6</td>\n      <td>1</td>\n      <td>2</td>\n      <td>60.0</td>\n      <td>6.0</td>\n      <td>3.0</td>\n      <td>5</td>\n    </tr>\n    <tr>\n      <th>4180</th>\n      <td>Steve+Rhodes</td>\n      <td>if you are like me and have never heard of thi...</td>\n      <td>0.6</td>\n      <td>1</td>\n      <td>2</td>\n      <td>60.0</td>\n      <td>6.0</td>\n      <td>3.0</td>\n      <td>5</td>\n    </tr>\n    <tr>\n      <th>1977</th>\n      <td>James+Berardinelli</td>\n      <td>perhaps disney should take a lesson from write...</td>\n      <td>0.75</td>\n      <td>2</td>\n      <td>2</td>\n      <td>75.0</td>\n      <td>8.0</td>\n      <td>4.0</td>\n      <td>7</td>\n    </tr>\n    <tr>\n      <th>2485</th>\n      <td>Scott+Renshaw</td>\n      <td>screenplay : rodney vaccaro and aline brosh mc...</td>\n      <td>0.4</td>\n      <td>0</td>\n      <td>1</td>\n      <td>40.0</td>\n      <td>4.0</td>\n      <td>2.0</td>\n      <td>3</td>\n    </tr>\n    <tr>\n      <th>4920</th>\n      <td>Steve+Rhodes</td>\n      <td>few people who have seen the classic 12 angry ...</td>\n      <td>0.8</td>\n      <td>2</td>\n      <td>3</td>\n      <td>80.0</td>\n      <td>8.0</td>\n      <td>4.0</td>\n      <td>7</td>\n    </tr>\n  </tbody>\n</table>\n<p>5440 rows × 9 columns</p>\n</div>"
     },
     "execution_count": 23,
     "metadata": {},
     "output_type": "execute_result"
    }
   ],
   "source": [
    "data"
   ],
   "metadata": {
    "collapsed": false
   }
  },
  {
   "cell_type": "code",
   "execution_count": 8,
   "outputs": [
    {
     "data": {
      "text/plain": "         id  label.3class  label.4class  rating  \\\n0     29420             0             0     0.1   \n1     17219             0             0     0.2   \n2     18406             0             0     0.2   \n3     18648             0             0     0.2   \n4     20021             0             0     0.2   \n...     ...           ...           ...     ...   \n5001   7470             2             3     0.9   \n5002   7853             2             3     0.9   \n5003   8309             2             3     0.9   \n5004   8912             2             3     0.9   \n5005   9085             2             3     0.9   \n\n                                                   subj           person  \\\n0     in my opinion , a movie reviewer's most import...  Dennis+Schwartz   \n1     you can watch this movie , that is based on a ...  Dennis+Schwartz   \n2     this is asking a lot to believe , and though i...  Dennis+Schwartz   \n3     no heroes and no story are the main attributes...  Dennis+Schwartz   \n4     this is not an art movie , yet i saw it an art...  Dennis+Schwartz   \n...                                                 ...              ...   \n5001  the conventional wisdom is that movie sequels ...     Steve+Rhodes   \n5002  nicolas roeg's mesmerizing 1971 film walkabout...     Steve+Rhodes   \n5003  the movie air force one should require a docto...     Steve+Rhodes   \n5004  \" well , jones , at least you haven't forgotte...     Steve+Rhodes   \n5005  in a time of bloated productions where special...     Steve+Rhodes   \n\n                                                  clean  rating_rt  \\\n0     in my opinion movie reviewer most important ta...         10   \n1     you can watch this movie that is based on sci ...         20   \n2     this is asking lot to believe and though it is...         20   \n3     no hero and no story are the main attribute fo...         20   \n4     this is not an art movie yet saw it an art hou...         20   \n...                                                 ...        ...   \n5001  the conventional wisdom is that movie sequel a...         90   \n5002  nicolas roeg mesmerizing 1971 film walkabout e...         90   \n5003  the movie air force one should require doctor ...         90   \n5004  well jones at least you haven forgotten how to...         90   \n5005  in time of bloated production where special ef...         90   \n\n      rating_imdb  rating_lb  rating_10class  \n0               1        0.5               1  \n1               2        1.0               2  \n2               2        1.0               2  \n3               2        1.0               2  \n4               2        1.0               2  \n...           ...        ...             ...  \n5001            9        4.5               9  \n5002            9        4.5               9  \n5003            9        4.5               9  \n5004            9        4.5               9  \n5005            9        4.5               9  \n\n[5006 rows x 11 columns]",
      "text/html": "<div>\n<style scoped>\n    .dataframe tbody tr th:only-of-type {\n        vertical-align: middle;\n    }\n\n    .dataframe tbody tr th {\n        vertical-align: top;\n    }\n\n    .dataframe thead th {\n        text-align: right;\n    }\n</style>\n<table border=\"1\" class=\"dataframe\">\n  <thead>\n    <tr style=\"text-align: right;\">\n      <th></th>\n      <th>id</th>\n      <th>label.3class</th>\n      <th>label.4class</th>\n      <th>rating</th>\n      <th>subj</th>\n      <th>person</th>\n      <th>clean</th>\n      <th>rating_rt</th>\n      <th>rating_imdb</th>\n      <th>rating_lb</th>\n      <th>rating_10class</th>\n    </tr>\n  </thead>\n  <tbody>\n    <tr>\n      <th>0</th>\n      <td>29420</td>\n      <td>0</td>\n      <td>0</td>\n      <td>0.1</td>\n      <td>in my opinion , a movie reviewer's most import...</td>\n      <td>Dennis+Schwartz</td>\n      <td>in my opinion movie reviewer most important ta...</td>\n      <td>10</td>\n      <td>1</td>\n      <td>0.5</td>\n      <td>1</td>\n    </tr>\n    <tr>\n      <th>1</th>\n      <td>17219</td>\n      <td>0</td>\n      <td>0</td>\n      <td>0.2</td>\n      <td>you can watch this movie , that is based on a ...</td>\n      <td>Dennis+Schwartz</td>\n      <td>you can watch this movie that is based on sci ...</td>\n      <td>20</td>\n      <td>2</td>\n      <td>1.0</td>\n      <td>2</td>\n    </tr>\n    <tr>\n      <th>2</th>\n      <td>18406</td>\n      <td>0</td>\n      <td>0</td>\n      <td>0.2</td>\n      <td>this is asking a lot to believe , and though i...</td>\n      <td>Dennis+Schwartz</td>\n      <td>this is asking lot to believe and though it is...</td>\n      <td>20</td>\n      <td>2</td>\n      <td>1.0</td>\n      <td>2</td>\n    </tr>\n    <tr>\n      <th>3</th>\n      <td>18648</td>\n      <td>0</td>\n      <td>0</td>\n      <td>0.2</td>\n      <td>no heroes and no story are the main attributes...</td>\n      <td>Dennis+Schwartz</td>\n      <td>no hero and no story are the main attribute fo...</td>\n      <td>20</td>\n      <td>2</td>\n      <td>1.0</td>\n      <td>2</td>\n    </tr>\n    <tr>\n      <th>4</th>\n      <td>20021</td>\n      <td>0</td>\n      <td>0</td>\n      <td>0.2</td>\n      <td>this is not an art movie , yet i saw it an art...</td>\n      <td>Dennis+Schwartz</td>\n      <td>this is not an art movie yet saw it an art hou...</td>\n      <td>20</td>\n      <td>2</td>\n      <td>1.0</td>\n      <td>2</td>\n    </tr>\n    <tr>\n      <th>...</th>\n      <td>...</td>\n      <td>...</td>\n      <td>...</td>\n      <td>...</td>\n      <td>...</td>\n      <td>...</td>\n      <td>...</td>\n      <td>...</td>\n      <td>...</td>\n      <td>...</td>\n      <td>...</td>\n    </tr>\n    <tr>\n      <th>5001</th>\n      <td>7470</td>\n      <td>2</td>\n      <td>3</td>\n      <td>0.9</td>\n      <td>the conventional wisdom is that movie sequels ...</td>\n      <td>Steve+Rhodes</td>\n      <td>the conventional wisdom is that movie sequel a...</td>\n      <td>90</td>\n      <td>9</td>\n      <td>4.5</td>\n      <td>9</td>\n    </tr>\n    <tr>\n      <th>5002</th>\n      <td>7853</td>\n      <td>2</td>\n      <td>3</td>\n      <td>0.9</td>\n      <td>nicolas roeg's mesmerizing 1971 film walkabout...</td>\n      <td>Steve+Rhodes</td>\n      <td>nicolas roeg mesmerizing 1971 film walkabout e...</td>\n      <td>90</td>\n      <td>9</td>\n      <td>4.5</td>\n      <td>9</td>\n    </tr>\n    <tr>\n      <th>5003</th>\n      <td>8309</td>\n      <td>2</td>\n      <td>3</td>\n      <td>0.9</td>\n      <td>the movie air force one should require a docto...</td>\n      <td>Steve+Rhodes</td>\n      <td>the movie air force one should require doctor ...</td>\n      <td>90</td>\n      <td>9</td>\n      <td>4.5</td>\n      <td>9</td>\n    </tr>\n    <tr>\n      <th>5004</th>\n      <td>8912</td>\n      <td>2</td>\n      <td>3</td>\n      <td>0.9</td>\n      <td>\" well , jones , at least you haven't forgotte...</td>\n      <td>Steve+Rhodes</td>\n      <td>well jones at least you haven forgotten how to...</td>\n      <td>90</td>\n      <td>9</td>\n      <td>4.5</td>\n      <td>9</td>\n    </tr>\n    <tr>\n      <th>5005</th>\n      <td>9085</td>\n      <td>2</td>\n      <td>3</td>\n      <td>0.9</td>\n      <td>in a time of bloated productions where special...</td>\n      <td>Steve+Rhodes</td>\n      <td>in time of bloated production where special ef...</td>\n      <td>90</td>\n      <td>9</td>\n      <td>4.5</td>\n      <td>9</td>\n    </tr>\n  </tbody>\n</table>\n<p>5006 rows × 11 columns</p>\n</div>"
     },
     "execution_count": 8,
     "metadata": {},
     "output_type": "execute_result"
    }
   ],
   "source": [
    "data = pd.read_csv('../data/scale/processed.csv')\n",
    "data"
   ],
   "metadata": {
    "collapsed": false
   }
  },
  {
   "cell_type": "code",
   "execution_count": 13,
   "outputs": [
    {
     "data": {
      "text/plain": "6    991\n5    927\n4    859\n7    691\n3    630\n2    400\n8    289\n1    131\n9     52\n0     36\nName: label.10class, dtype: int64"
     },
     "execution_count": 13,
     "metadata": {},
     "output_type": "execute_result"
    }
   ],
   "source": [
    "data['label.10class'].value_counts()"
   ],
   "metadata": {
    "collapsed": false
   }
  },
  {
   "cell_type": "code",
   "execution_count": 11,
   "outputs": [
    {
     "data": {
      "text/plain": "<AxesSubplot: >"
     },
     "execution_count": 11,
     "metadata": {},
     "output_type": "execute_result"
    },
    {
     "data": {
      "text/plain": "<Figure size 640x480 with 1 Axes>",
      "image/png": "[encoded data removed]"
     },
     "metadata": {},
     "output_type": "display_data"
    }
   ],
   "source": [
    "data['rating'].hist(bins=10)"
   ],
   "metadata": {
    "collapsed": false
   }
  },
  {
   "cell_type": "code",
   "execution_count": 18,
   "outputs": [
    {
     "data": {
      "text/plain": "<Axes: >"
     },
     "execution_count": 18,
     "metadata": {},
     "output_type": "execute_result"
    },
    {
     "data": {
      "text/plain": "<Figure size 640x480 with 1 Axes>",
      "image/png": "[encoded data removed]"
     },
     "metadata": {},
     "output_type": "display_data"
    }
   ],
   "source": [
    "data['label.10class'].hist()"
   ],
   "metadata": {
    "collapsed": false
   }
  },
  {
   "cell_type": "code",
   "execution_count": 13,
   "outputs": [
    {
     "data": {
      "text/plain": "         id  label.3class  label.4class  rating  \\\n3730  21088             1             1     0.5   \n1573   9833             1             2     0.6   \n2349  12390             0             0     0.2   \n3922   7183             1             1     0.5   \n369   17662             1             1     0.5   \n\n                                                   subj              person  \\\n3730  writers and directors figure that the more the...        Steve+Rhodes   \n1573  one night stand , director mike figgis' follow...  James+Berardinelli   \n2349  director : frederik duchau . mpaa rating : g (...       Scott+Renshaw   \n3922  for me , australia will always be the land of ...        Steve+Rhodes   \n369   tango is a romantic musical , supposedly influ...     Dennis+Schwartz   \n\n                                                  clean  rating_100  \\\n3730  writer and director figure that the more the a...          50   \n1573  one night stand director mike figgis follow up...          60   \n2349  director frederik duchau mpaa rating some scar...          20   \n3922  for me australia will always be the land of ko...          50   \n369   tango is romantic musical supposedly influence...          50   \n\n      rating_imdb  rating_lb  \n3730            5        2.5  \n1573            6        3.0  \n2349            2        1.0  \n3922            5        2.5  \n369             5        2.5  ",
      "text/html": "<div>\n<style scoped>\n    .dataframe tbody tr th:only-of-type {\n        vertical-align: middle;\n    }\n\n    .dataframe tbody tr th {\n        vertical-align: top;\n    }\n\n    .dataframe thead th {\n        text-align: right;\n    }\n</style>\n<table border=\"1\" class=\"dataframe\">\n  <thead>\n    <tr style=\"text-align: right;\">\n      <th></th>\n      <th>id</th>\n      <th>label.3class</th>\n      <th>label.4class</th>\n      <th>rating</th>\n      <th>subj</th>\n      <th>person</th>\n      <th>clean</th>\n      <th>rating_100</th>\n      <th>rating_imdb</th>\n      <th>rating_lb</th>\n    </tr>\n  </thead>\n  <tbody>\n    <tr>\n      <th>3730</th>\n      <td>21088</td>\n      <td>1</td>\n      <td>1</td>\n      <td>0.5</td>\n      <td>writers and directors figure that the more the...</td>\n      <td>Steve+Rhodes</td>\n      <td>writer and director figure that the more the a...</td>\n      <td>50</td>\n      <td>5</td>\n      <td>2.5</td>\n    </tr>\n    <tr>\n      <th>1573</th>\n      <td>9833</td>\n      <td>1</td>\n      <td>2</td>\n      <td>0.6</td>\n      <td>one night stand , director mike figgis' follow...</td>\n      <td>James+Berardinelli</td>\n      <td>one night stand director mike figgis follow up...</td>\n      <td>60</td>\n      <td>6</td>\n      <td>3.0</td>\n    </tr>\n    <tr>\n      <th>2349</th>\n      <td>12390</td>\n      <td>0</td>\n      <td>0</td>\n      <td>0.2</td>\n      <td>director : frederik duchau . mpaa rating : g (...</td>\n      <td>Scott+Renshaw</td>\n      <td>director frederik duchau mpaa rating some scar...</td>\n      <td>20</td>\n      <td>2</td>\n      <td>1.0</td>\n    </tr>\n    <tr>\n      <th>3922</th>\n      <td>7183</td>\n      <td>1</td>\n      <td>1</td>\n      <td>0.5</td>\n      <td>for me , australia will always be the land of ...</td>\n      <td>Steve+Rhodes</td>\n      <td>for me australia will always be the land of ko...</td>\n      <td>50</td>\n      <td>5</td>\n      <td>2.5</td>\n    </tr>\n    <tr>\n      <th>369</th>\n      <td>17662</td>\n      <td>1</td>\n      <td>1</td>\n      <td>0.5</td>\n      <td>tango is a romantic musical , supposedly influ...</td>\n      <td>Dennis+Schwartz</td>\n      <td>tango is romantic musical supposedly influence...</td>\n      <td>50</td>\n      <td>5</td>\n      <td>2.5</td>\n    </tr>\n  </tbody>\n</table>\n</div>"
     },
     "execution_count": 13,
     "metadata": {},
     "output_type": "execute_result"
    }
   ],
   "source": [
    "data.sample(5)"
   ],
   "metadata": {
    "collapsed": false
   }
  },
  {
   "cell_type": "markdown",
   "source": [
    "# Data Transformation"
   ],
   "metadata": {
    "collapsed": false
   }
  },
  {
   "cell_type": "code",
   "execution_count": 4,
   "outputs": [],
   "source": [
    "import re\n",
    "from nltk.stem import WordNetLemmatizer\n",
    "\n",
    "def clean_text(text):\n",
    "    stemmer = WordNetLemmatizer()\n",
    "\n",
    "    # Remove all the special characters\n",
    "    document = re.sub(r'\\W', ' ', text)\n",
    "\n",
    "    # remove all single characters\n",
    "    document = re.sub(r'\\s+[a-zA-Z]\\s+', ' ', document)\n",
    "\n",
    "    # Remove single characters from the start\n",
    "    document = re.sub(r'\\^[a-zA-Z]\\s+', ' ', document)\n",
    "\n",
    "    # Substituting multiple spaces with single space\n",
    "    document = re.sub(r'\\s+', ' ', document, flags=re.I)\n",
    "\n",
    "    # Removing prefixed 'b'\n",
    "    document = re.sub(r'^b\\s+', '', document)\n",
    "\n",
    "    # Converting to Lowercase\n",
    "    document = document.lower()\n",
    "\n",
    "    # Lemmatization\n",
    "    document = document.split()\n",
    "\n",
    "    document = [stemmer.lemmatize(word) for word in document]\n",
    "    document = ' '.join(document)\n",
    "\n",
    "    return document"
   ],
   "metadata": {
    "collapsed": false
   }
  },
  {
   "cell_type": "code",
   "execution_count": null,
   "outputs": [],
   "source": [
    "import nltk\n",
    "nltk.download('wordnet')"
   ],
   "metadata": {
    "collapsed": false
   }
  },
  {
   "cell_type": "code",
   "execution_count": null,
   "outputs": [],
   "source": [
    "# data['clean'] = [clean_text(x) for x in data['subj']]"
   ],
   "metadata": {
    "collapsed": false
   }
  },
  {
   "cell_type": "code",
   "execution_count": 14,
   "outputs": [
    {
     "data": {
      "text/plain": "                                                subj  \\\n0  in my opinion , a movie reviewer's most import...   \n1  you can watch this movie , that is based on a ...   \n2  this is asking a lot to believe , and though i...   \n3  no heroes and no story are the main attributes...   \n4  this is not an art movie , yet i saw it an art...   \n\n                                               clean  \n0  in my opinion movie reviewer most important ta...  \n1  you can watch this movie that is based on sci ...  \n2  this is asking lot to believe and though it is...  \n3  no hero and no story are the main attribute fo...  \n4  this is not an art movie yet saw it an art hou...  ",
      "text/html": "<div>\n<style scoped>\n    .dataframe tbody tr th:only-of-type {\n        vertical-align: middle;\n    }\n\n    .dataframe tbody tr th {\n        vertical-align: top;\n    }\n\n    .dataframe thead th {\n        text-align: right;\n    }\n</style>\n<table border=\"1\" class=\"dataframe\">\n  <thead>\n    <tr style=\"text-align: right;\">\n      <th></th>\n      <th>subj</th>\n      <th>clean</th>\n    </tr>\n  </thead>\n  <tbody>\n    <tr>\n      <th>0</th>\n      <td>in my opinion , a movie reviewer's most import...</td>\n      <td>in my opinion movie reviewer most important ta...</td>\n    </tr>\n    <tr>\n      <th>1</th>\n      <td>you can watch this movie , that is based on a ...</td>\n      <td>you can watch this movie that is based on sci ...</td>\n    </tr>\n    <tr>\n      <th>2</th>\n      <td>this is asking a lot to believe , and though i...</td>\n      <td>this is asking lot to believe and though it is...</td>\n    </tr>\n    <tr>\n      <th>3</th>\n      <td>no heroes and no story are the main attributes...</td>\n      <td>no hero and no story are the main attribute fo...</td>\n    </tr>\n    <tr>\n      <th>4</th>\n      <td>this is not an art movie , yet i saw it an art...</td>\n      <td>this is not an art movie yet saw it an art hou...</td>\n    </tr>\n  </tbody>\n</table>\n</div>"
     },
     "execution_count": 14,
     "metadata": {},
     "output_type": "execute_result"
    }
   ],
   "source": [
    "data[['subj', 'clean']].head()"
   ],
   "metadata": {
    "collapsed": false
   }
  },
  {
   "cell_type": "code",
   "execution_count": null,
   "outputs": [],
   "source": [
    "nltk.download('stopwords')"
   ],
   "metadata": {
    "collapsed": false
   }
  },
  {
   "cell_type": "code",
   "execution_count": 15,
   "outputs": [],
   "source": [
    "from nltk.corpus import stopwords\n",
    "\n",
    "from sklearn.feature_extraction.text import TfidfVectorizer\n",
    "tfidf = TfidfVectorizer(max_features=1500, min_df=5, max_df=0.7, stop_words=stopwords.words('english'))\n",
    "X = tfidf.fit_transform(data['clean']).toarray()"
   ],
   "metadata": {
    "collapsed": false
   }
  },
  {
   "cell_type": "code",
   "execution_count": 17,
   "outputs": [
    {
     "data": {
      "text/plain": "array([[0.        , 0.        , 0.        , ..., 0.        , 0.        ,\n        0.        ],\n       [0.        , 0.        , 0.        , ..., 0.        , 0.        ,\n        0.        ],\n       [0.        , 0.        , 0.        , ..., 0.        , 0.        ,\n        0.        ],\n       ...,\n       [0.        , 0.        , 0.        , ..., 0.        , 0.        ,\n        0.        ],\n       [0.        , 0.        , 0.        , ..., 0.        , 0.12114127,\n        0.        ],\n       [0.        , 0.        , 0.16967528, ..., 0.        , 0.        ,\n        0.        ]])"
     },
     "execution_count": 17,
     "metadata": {},
     "output_type": "execute_result"
    }
   ],
   "source": [
    "X"
   ],
   "metadata": {
    "collapsed": false
   }
  },
  {
   "cell_type": "markdown",
   "source": [
    "# Full pipeline"
   ],
   "metadata": {
    "collapsed": false
   }
  },
  {
   "cell_type": "code",
   "execution_count": 36,
   "outputs": [],
   "source": [
    "from sklearn.linear_model import LinearRegression\n",
    "from sklearn.pipeline import make_pipeline\n",
    "\n",
    "classifier = LinearRegression()\n",
    "pipe = make_pipeline(tfidf, classifier, verbose=True)"
   ],
   "metadata": {
    "collapsed": false
   }
  },
  {
   "cell_type": "code",
   "execution_count": 19,
   "outputs": [],
   "source": [
    "from sklearn.model_selection import train_test_split\n",
    "\n",
    "X_train, X_test, y_train, y_test = train_test_split(data['clean'], data['rating'], test_size=0.1)"
   ],
   "metadata": {
    "collapsed": false
   }
  },
  {
   "cell_type": "code",
   "execution_count": 37,
   "outputs": [
    {
     "name": "stdout",
     "output_type": "stream",
     "text": [
      "[Pipeline] ... (step 1 of 2) Processing tfidfvectorizer, total=   1.0s\n",
      "[Pipeline] .. (step 2 of 2) Processing linearregression, total=   0.1s\n"
     ]
    }
   ],
   "source": [
    "pipe.fit(X_train, y_train)\n",
    "pickle.dump(pipe, open('model/pipe.pickle', 'wb'))"
   ],
   "metadata": {
    "collapsed": false
   }
  },
  {
   "cell_type": "markdown",
   "source": [
    "## Load pipeline"
   ],
   "metadata": {
    "collapsed": false
   }
  },
  {
   "cell_type": "code",
   "execution_count": 38,
   "outputs": [],
   "source": [
    "pipe = pickle.load(open('model/pipe.pickle', 'rb'))"
   ],
   "metadata": {
    "collapsed": false
   }
  },
  {
   "cell_type": "code",
   "execution_count": 39,
   "outputs": [],
   "source": [
    "y_pred = pipe.predict(X_test)"
   ],
   "metadata": {
    "collapsed": false
   }
  },
  {
   "cell_type": "code",
   "execution_count": 40,
   "outputs": [
    {
     "name": "stdout",
     "output_type": "stream",
     "text": [
      "MAE: 0.10994234558850066\n",
      "MAPE: 0.2288616270264375\n",
      "RMSE: 0.1387955321706542\n"
     ]
    }
   ],
   "source": [
    "from sklearn.metrics import mean_absolute_error, mean_absolute_percentage_error, mean_squared_error\n",
    "\n",
    "print(f'MAE: {mean_absolute_error(y_test, y_pred)}')\n",
    "print(f'MAPE: {mean_absolute_percentage_error(y_test, y_pred)}')\n",
    "print(f'RMSE: {mean_squared_error(y_test, y_pred, squared=False)}')"
   ],
   "metadata": {
    "collapsed": false
   }
  },
  {
   "cell_type": "code",
   "execution_count": 33,
   "outputs": [
    {
     "name": "stdout",
     "output_type": "stream",
     "text": [
      "2.5\n"
     ]
    }
   ],
   "source": [
    "to_rate = 'very good, incredible'\n",
    "platform = 'letterboxd'\n",
    "\n",
    "result = pipe.predict([to_rate])[0]\n",
    "if platform == 'letterboxd':\n",
    "    print(math.ceil(result*10)/2)\n",
    "elif platform == 'imdb':\n",
    "    print(math.ceil(result*10))\n",
    "else:\n",
    "    print(math.ceil(result*100))"
   ],
   "metadata": {
    "collapsed": false
   }
  },
  {
   "cell_type": "markdown",
   "source": [
    "# MINE"
   ],
   "metadata": {
    "collapsed": false
   }
  },
  {
   "cell_type": "code",
   "execution_count": null,
   "outputs": [],
   "source": [
    "class Classifier(nn.Module):\n",
    "    def __init__(self, embedding_size, hidden_size, num_class):\n",
    "        super().__init__()\n",
    "\n",
    "        self.input_layer = nn.Linear(embedding_size, hidden_size)\n",
    "        self.hidden_layer = nn.Linear(hidden_size, hidden_size)\n",
    "        self.output_layer = nn.Linear(hidden_size, num_class)\n",
    "\n",
    "        self.relu = nn.ReLU()\n",
    "        self.softmax = nn.Softmax()\n",
    "\n",
    "    def forward(self, x):\n",
    "        x = self.relu(self.input_layer(x))\n",
    "        x = self.relu(self.hidden_layer(x))\n",
    "        x = self.output_layer(x)\n",
    "        # x = self.softmax(x)  # not used, because CrossEntropyLoss() does it\n",
    "        return x"
   ],
   "metadata": {
    "collapsed": false
   }
  },
  {
   "cell_type": "code",
   "execution_count": null,
   "outputs": [],
   "source": [],
   "metadata": {
    "collapsed": false
   }
  },
  {
   "cell_type": "code",
   "execution_count": null,
   "outputs": [],
   "source": [],
   "metadata": {
    "collapsed": false
   }
  }
 ],
 "metadata": {
  "kernelspec": {
   "display_name": "Python 3",
   "language": "python",
   "name": "python3"
  },
  "language_info": {
   "codemirror_mode": {
    "name": "ipython",
    "version": 2
   },
   "file_extension": ".py",
   "mimetype": "text/x-python",
   "name": "python",
   "nbconvert_exporter": "python",
   "pygments_lexer": "ipython2",
   "version": "2.7.6"
  }
 },
 "nbformat": 4,
 "nbformat_minor": 0
}
