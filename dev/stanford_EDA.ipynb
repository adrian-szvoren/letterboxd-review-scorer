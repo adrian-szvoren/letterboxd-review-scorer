{
 "cells": [
  {
   "cell_type": "code",
   "execution_count": 1,
   "metadata": {
    "collapsed": true
   },
   "outputs": [],
   "source": [
    "import pandas as pd"
   ]
  },
  {
   "cell_type": "code",
   "execution_count": 2,
   "outputs": [],
   "source": [
    "sentiment = pd.read_csv('../data/raw/stanford_sentiment/sentiment_labels.txt', sep='|')"
   ],
   "metadata": {
    "collapsed": false
   }
  },
  {
   "cell_type": "code",
   "execution_count": 5,
   "outputs": [
    {
     "data": {
      "text/plain": "<Axes: >"
     },
     "execution_count": 5,
     "metadata": {},
     "output_type": "execute_result"
    },
    {
     "data": {
      "text/plain": "<Figure size 640x480 with 1 Axes>",
      "image/png": "[encoded data removed]"
     },
     "metadata": {},
     "output_type": "display_data"
    }
   ],
   "source": [
    "sentiment['sentiment values'].hist(bins=10)"
   ],
   "metadata": {
    "collapsed": false
   }
  },
  {
   "cell_type": "code",
   "execution_count": 11,
   "outputs": [
    {
     "data": {
      "text/plain": "        phrase ids  sentiment values\n0                0           0.50000\n1                1           0.50000\n2                2           0.44444\n3                3           0.50000\n4                4           0.42708\n...            ...               ...\n239227      239227           0.36111\n239228      239228           0.38889\n239229      239229           0.33333\n239230      239230           0.88889\n239231      239231           0.50000\n\n[239232 rows x 2 columns]",
      "text/html": "<div>\n<style scoped>\n    .dataframe tbody tr th:only-of-type {\n        vertical-align: middle;\n    }\n\n    .dataframe tbody tr th {\n        vertical-align: top;\n    }\n\n    .dataframe thead th {\n        text-align: right;\n    }\n</style>\n<table border=\"1\" class=\"dataframe\">\n  <thead>\n    <tr style=\"text-align: right;\">\n      <th></th>\n      <th>phrase ids</th>\n      <th>sentiment values</th>\n    </tr>\n  </thead>\n  <tbody>\n    <tr>\n      <th>0</th>\n      <td>0</td>\n      <td>0.50000</td>\n    </tr>\n    <tr>\n      <th>1</th>\n      <td>1</td>\n      <td>0.50000</td>\n    </tr>\n    <tr>\n      <th>2</th>\n      <td>2</td>\n      <td>0.44444</td>\n    </tr>\n    <tr>\n      <th>3</th>\n      <td>3</td>\n      <td>0.50000</td>\n    </tr>\n    <tr>\n      <th>4</th>\n      <td>4</td>\n      <td>0.42708</td>\n    </tr>\n    <tr>\n      <th>...</th>\n      <td>...</td>\n      <td>...</td>\n    </tr>\n    <tr>\n      <th>239227</th>\n      <td>239227</td>\n      <td>0.36111</td>\n    </tr>\n    <tr>\n      <th>239228</th>\n      <td>239228</td>\n      <td>0.38889</td>\n    </tr>\n    <tr>\n      <th>239229</th>\n      <td>239229</td>\n      <td>0.33333</td>\n    </tr>\n    <tr>\n      <th>239230</th>\n      <td>239230</td>\n      <td>0.88889</td>\n    </tr>\n    <tr>\n      <th>239231</th>\n      <td>239231</td>\n      <td>0.50000</td>\n    </tr>\n  </tbody>\n</table>\n<p>239232 rows × 2 columns</p>\n</div>"
     },
     "execution_count": 11,
     "metadata": {},
     "output_type": "execute_result"
    }
   ],
   "source": [
    "sentiment"
   ],
   "metadata": {
    "collapsed": false
   }
  },
  {
   "cell_type": "code",
   "execution_count": 14,
   "outputs": [],
   "source": [
    "dict = pd.read_csv('../data/raw/stanford_sentiment/dictionary.txt', sep='|', header=None).rename(columns={0: 'phrase', 1: 'phrase ids'})"
   ],
   "metadata": {
    "collapsed": false
   }
  },
  {
   "cell_type": "code",
   "execution_count": 17,
   "outputs": [],
   "source": [
    "merged = dict.merge(sentiment).drop(columns='phrase ids').rename(columns={'sentiment values': 'sentiment'})"
   ],
   "metadata": {
    "collapsed": false
   }
  },
  {
   "cell_type": "code",
   "execution_count": 18,
   "outputs": [
    {
     "data": {
      "text/plain": "                                                   phrase  sentiment\n0                                                       !    0.50000\n1                                                     ! '    0.52778\n2                                                    ! ''    0.50000\n3                                                  ! Alas    0.44444\n4                                             ! Brilliant    0.86111\n...                                                   ...        ...\n239227  zoning ordinances to protect your community fr...    0.13889\n239228                                          zzzzzzzzz    0.19444\n239229                                               élan    0.51389\n239230                                                  É    0.50000\n239231                   É um passatempo descompromissado    0.50000\n\n[239232 rows x 2 columns]",
      "text/html": "<div>\n<style scoped>\n    .dataframe tbody tr th:only-of-type {\n        vertical-align: middle;\n    }\n\n    .dataframe tbody tr th {\n        vertical-align: top;\n    }\n\n    .dataframe thead th {\n        text-align: right;\n    }\n</style>\n<table border=\"1\" class=\"dataframe\">\n  <thead>\n    <tr style=\"text-align: right;\">\n      <th></th>\n      <th>phrase</th>\n      <th>sentiment</th>\n    </tr>\n  </thead>\n  <tbody>\n    <tr>\n      <th>0</th>\n      <td>!</td>\n      <td>0.50000</td>\n    </tr>\n    <tr>\n      <th>1</th>\n      <td>! '</td>\n      <td>0.52778</td>\n    </tr>\n    <tr>\n      <th>2</th>\n      <td>! ''</td>\n      <td>0.50000</td>\n    </tr>\n    <tr>\n      <th>3</th>\n      <td>! Alas</td>\n      <td>0.44444</td>\n    </tr>\n    <tr>\n      <th>4</th>\n      <td>! Brilliant</td>\n      <td>0.86111</td>\n    </tr>\n    <tr>\n      <th>...</th>\n      <td>...</td>\n      <td>...</td>\n    </tr>\n    <tr>\n      <th>239227</th>\n      <td>zoning ordinances to protect your community fr...</td>\n      <td>0.13889</td>\n    </tr>\n    <tr>\n      <th>239228</th>\n      <td>zzzzzzzzz</td>\n      <td>0.19444</td>\n    </tr>\n    <tr>\n      <th>239229</th>\n      <td>élan</td>\n      <td>0.51389</td>\n    </tr>\n    <tr>\n      <th>239230</th>\n      <td>É</td>\n      <td>0.50000</td>\n    </tr>\n    <tr>\n      <th>239231</th>\n      <td>É um passatempo descompromissado</td>\n      <td>0.50000</td>\n    </tr>\n  </tbody>\n</table>\n<p>239232 rows × 2 columns</p>\n</div>"
     },
     "execution_count": 18,
     "metadata": {},
     "output_type": "execute_result"
    }
   ],
   "source": [
    "merged"
   ],
   "metadata": {
    "collapsed": false
   }
  },
  {
   "cell_type": "code",
   "execution_count": 19,
   "outputs": [],
   "source": [
    "merged.to_csv('../data/stanford.csv')"
   ],
   "metadata": {
    "collapsed": false
   }
  },
  {
   "cell_type": "code",
   "execution_count": null,
   "outputs": [],
   "source": [],
   "metadata": {
    "collapsed": false
   }
  }
 ],
 "metadata": {
  "kernelspec": {
   "display_name": "Python 3",
   "language": "python",
   "name": "python3"
  },
  "language_info": {
   "codemirror_mode": {
    "name": "ipython",
    "version": 2
   },
   "file_extension": ".py",
   "mimetype": "text/x-python",
   "name": "python",
   "nbconvert_exporter": "python",
   "pygments_lexer": "ipython2",
   "version": "2.7.6"
  }
 },
 "nbformat": 4,
 "nbformat_minor": 0
}
